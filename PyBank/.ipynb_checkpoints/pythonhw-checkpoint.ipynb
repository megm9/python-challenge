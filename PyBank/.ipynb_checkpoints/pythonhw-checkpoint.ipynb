{
 "cells": [
  {
   "cell_type": "code",
   "execution_count": 50,
   "metadata": {},
   "outputs": [],
   "source": [
    "import os\n",
    "import csv"
   ]
  },
  {
   "cell_type": "code",
   "execution_count": 45,
   "metadata": {},
   "outputs": [
    {
     "data": {
      "text/plain": [
       "86"
      ]
     },
     "execution_count": 45,
     "metadata": {},
     "output_type": "execute_result"
    }
   ],
   "source": [
    "#how many rows\n",
    "\n",
    "budget = open(\"budget_data.csv\")\n",
    "reader = csv.reader(budget, delimiter = \",\")\n",
    "months = len(list(reader)) - 1\n",
    "months"
   ]
  },
  {
   "cell_type": "code",
   "execution_count": 48,
   "metadata": {},
   "outputs": [],
   "source": [
    "#total profit/loss\n",
    "x = []\n",
    "for line in reader:\n",
    "    x.append(line)\n",
    "    "
   ]
  },
  {
   "cell_type": "code",
   "execution_count": 55,
   "metadata": {},
   "outputs": [],
   "source": [
    "file = csv.reader(open('budget_data.csv'), delimiter =',')"
   ]
  },
  {
   "cell_type": "code",
   "execution_count": 58,
   "metadata": {},
   "outputs": [
    {
     "data": {
      "text/plain": [
       "86"
      ]
     },
     "execution_count": 58,
     "metadata": {},
     "output_type": "execute_result"
    }
   ],
   "source": [
    "file = csv.reader(open('budget_data.csv'), delimiter =',')\n",
    "months = len(list(file)) - 1\n",
    "months"
   ]
  },
  {
   "cell_type": "code",
   "execution_count": 76,
   "metadata": {},
   "outputs": [
    {
     "data": {
      "text/plain": [
       "38382578"
      ]
     },
     "execution_count": 76,
     "metadata": {},
     "output_type": "execute_result"
    }
   ],
   "source": [
    "file = csv.reader(open('budget_data.csv'), delimiter =',')\n",
    "profits = []\n",
    "for line in file:\n",
    "    profits.append(line[1])\n",
    "profits = profits[1:]\n",
    "profits = [int(x) for x in profits]\n",
    "final_profit = sum(profits)\n",
    "final_profit"
   ]
  },
  {
   "cell_type": "code",
   "execution_count": 97,
   "metadata": {},
   "outputs": [
    {
     "data": {
      "text/plain": [
       "-2288.1976744186045"
      ]
     },
     "execution_count": 97,
     "metadata": {},
     "output_type": "execute_result"
    }
   ],
   "source": [
    "changes = []\n",
    "for i in range(len(profits)):\n",
    "    if i == len(profits) - 1:\n",
    "        break\n",
    "    else:\n",
    "        change = profits[i+1] - profits[i]\n",
    "        changes.append(change)\n",
    "\n",
    "sum(changes)/len(profits)"
   ]
  },
  {
   "cell_type": "code",
   "execution_count": 101,
   "metadata": {},
   "outputs": [],
   "source": [
    "max_profit = max(changes)"
   ]
  },
  {
   "cell_type": "code",
   "execution_count": 113,
   "metadata": {},
   "outputs": [],
   "source": [
    "min_profit = min(changes)"
   ]
  },
  {
   "cell_type": "code",
   "execution_count": 96,
   "metadata": {},
   "outputs": [
    {
     "data": {
      "text/plain": [
       "85"
      ]
     },
     "execution_count": 96,
     "metadata": {},
     "output_type": "execute_result"
    }
   ],
   "source": [
    "len(changes)"
   ]
  },
  {
   "cell_type": "code",
   "execution_count": 102,
   "metadata": {},
   "outputs": [
    {
     "data": {
      "text/plain": [
       "1926159"
      ]
     },
     "execution_count": 102,
     "metadata": {},
     "output_type": "execute_result"
    }
   ],
   "source": [
    "max_profit"
   ]
  },
  {
   "cell_type": "code",
   "execution_count": 103,
   "metadata": {},
   "outputs": [
    {
     "data": {
      "text/plain": [
       "24"
      ]
     },
     "execution_count": 103,
     "metadata": {},
     "output_type": "execute_result"
    }
   ],
   "source": [
    "changes.index(max_profit)"
   ]
  },
  {
   "cell_type": "code",
   "execution_count": 110,
   "metadata": {},
   "outputs": [
    {
     "data": {
      "text/plain": [
       "[['Jan-2010', '867884'],\n",
       " ['Feb-2010', '984655'],\n",
       " ['Mar-2010', '322013'],\n",
       " ['Apr-2010', '-69417'],\n",
       " ['May-2010', '310503'],\n",
       " ['Jun-2010', '522857'],\n",
       " ['Jul-2010', '1033096'],\n",
       " ['Aug-2010', '604885'],\n",
       " ['Sep-2010', '-216386'],\n",
       " ['Oct-2010', '477532'],\n",
       " ['Nov-2010', '893810'],\n",
       " ['Dec-2010', '-80353'],\n",
       " ['Jan-2011', '779806'],\n",
       " ['Feb-2011', '-335203'],\n",
       " ['Mar-2011', '697845'],\n",
       " ['Apr-2011', '793163'],\n",
       " ['May-2011', '485070'],\n",
       " ['Jun-2011', '584122'],\n",
       " ['Jul-2011', '62729'],\n",
       " ['Aug-2011', '668179'],\n",
       " ['Sep-2011', '899906'],\n",
       " ['Oct-2011', '834719'],\n",
       " ['Nov-2011', '132003'],\n",
       " ['Dec-2011', '309978'],\n",
       " ['Jan-2012', '-755566'],\n",
       " ['Feb-2012', '1170593'],\n",
       " ['Mar-2012', '252788'],\n",
       " ['Apr-2012', '1151518'],\n",
       " ['May-2012', '817256'],\n",
       " ['Jun-2012', '570757'],\n",
       " ['Jul-2012', '506702'],\n",
       " ['Aug-2012', '-1022534'],\n",
       " ['Sep-2012', '475062'],\n",
       " ['Oct-2012', '779976'],\n",
       " ['Nov-2012', '144175'],\n",
       " ['Dec-2012', '542494'],\n",
       " ['Jan-2013', '359333'],\n",
       " ['Feb-2013', '321469'],\n",
       " ['Mar-2013', '67780'],\n",
       " ['Apr-2013', '471435'],\n",
       " ['May-2013', '565603'],\n",
       " ['Jun-2013', '872480'],\n",
       " ['Jul-2013', '789480'],\n",
       " ['Aug-2013', '999942'],\n",
       " ['Sep-2013', '-1196225'],\n",
       " ['Oct-2013', '268997'],\n",
       " ['Nov-2013', '-687986'],\n",
       " ['Dec-2013', '1150461'],\n",
       " ['Jan-2014', '682458'],\n",
       " ['Feb-2014', '617856'],\n",
       " ['Mar-2014', '824098'],\n",
       " ['Apr-2014', '581943'],\n",
       " ['May-2014', '132864'],\n",
       " ['Jun-2014', '448062'],\n",
       " ['Jul-2014', '689161'],\n",
       " ['Aug-2014', '800701'],\n",
       " ['Sep-2014', '1166643'],\n",
       " ['Oct-2014', '947333'],\n",
       " ['Nov-2014', '578668'],\n",
       " ['Dec-2014', '988505'],\n",
       " ['Jan-2015', '1139715'],\n",
       " ['Feb-2015', '1029471'],\n",
       " ['Mar-2015', '687533'],\n",
       " ['Apr-2015', '-524626'],\n",
       " ['May-2015', '158620'],\n",
       " ['Jun-2015', '87795'],\n",
       " ['Jul-2015', '423389'],\n",
       " ['Aug-2015', '840723'],\n",
       " ['Sep-2015', '568529'],\n",
       " ['Oct-2015', '332067'],\n",
       " ['Nov-2015', '989499'],\n",
       " ['Dec-2015', '778237'],\n",
       " ['Jan-2016', '650000'],\n",
       " ['Feb-2016', '-1100387'],\n",
       " ['Mar-2016', '-174946'],\n",
       " ['Apr-2016', '757143'],\n",
       " ['May-2016', '445709'],\n",
       " ['Jun-2016', '712961'],\n",
       " ['Jul-2016', '-1163797'],\n",
       " ['Aug-2016', '569899'],\n",
       " ['Sep-2016', '768450'],\n",
       " ['Oct-2016', '102685'],\n",
       " ['Nov-2016', '795914'],\n",
       " ['Dec-2016', '60988'],\n",
       " ['Jan-2017', '138230'],\n",
       " ['Feb-2017', '671099']]"
      ]
     },
     "execution_count": 110,
     "metadata": {},
     "output_type": "execute_result"
    }
   ],
   "source": [
    "file = csv.reader(open('budget_data.csv'), delimiter =',')\n",
    "date_amount = []\n",
    "for line in file:\n",
    "    date_amount.append(line)\n",
    "date_amount = date_amount[1:]\n",
    "date_amount"
   ]
  },
  {
   "cell_type": "code",
   "execution_count": 111,
   "metadata": {},
   "outputs": [
    {
     "data": {
      "text/plain": [
       "['Jan-2012', '-755566']"
      ]
     },
     "execution_count": 111,
     "metadata": {},
     "output_type": "execute_result"
    }
   ],
   "source": [
    "date_amount[24]"
   ]
  },
  {
   "cell_type": "code",
   "execution_count": 117,
   "metadata": {},
   "outputs": [
    {
     "name": "stdout",
     "output_type": "stream",
     "text": [
      "Sep-2013 -2196167\n"
     ]
    }
   ],
   "source": [
    "print(date_amount[changes.index(min_profit) + 1][0], min_profit)"
   ]
  },
  {
   "cell_type": "code",
   "execution_count": 119,
   "metadata": {},
   "outputs": [
    {
     "name": "stdout",
     "output_type": "stream",
     "text": [
      "Feb-2012 1926159\n"
     ]
    }
   ],
   "source": [
    "print(date_amount[changes.index(max_profit) + 1][0], max_profit)"
   ]
  },
  {
   "cell_type": "code",
   "execution_count": null,
   "metadata": {},
   "outputs": [],
   "source": []
  }
 ],
 "metadata": {
  "kernelspec": {
   "display_name": "Python 3",
   "language": "python",
   "name": "python3"
  },
  "language_info": {
   "codemirror_mode": {
    "name": "ipython",
    "version": 3
   },
   "file_extension": ".py",
   "mimetype": "text/x-python",
   "name": "python",
   "nbconvert_exporter": "python",
   "pygments_lexer": "ipython3",
   "version": "3.8.3"
  }
 },
 "nbformat": 4,
 "nbformat_minor": 4
}
